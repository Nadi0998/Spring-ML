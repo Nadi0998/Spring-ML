{
 "cells": [
  {
   "cell_type": "code",
   "execution_count": 1,
   "metadata": {
    "_cell_guid": "b1076dfc-b9ad-4769-8c92-a6c4dae69d19",
    "_uuid": "8f2839f25d086af736a60e9eeb907d3b93b6e0e5"
   },
   "outputs": [
    {
     "name": "stdout",
     "output_type": "stream",
     "text": [
      "['winequality-red.csv']\n"
     ]
    }
   ],
   "source": [
    "import numpy as np # linear algebra\n",
    "import pandas as pd # data processing, CSV file I/O (e.g. pd.read_csv)\n",
    "import os\n",
    "print(os.listdir(\"./data\"))\n",
    "\n",
    "# Any results you write to the current directory are saved as output.\n",
    "\n",
    "import seaborn as sns\n",
    "import matplotlib.pyplot as plt\n",
    "%matplotlib inline \n",
    "sns.set(style=\"ticks\")"
   ]
  },
  {
   "cell_type": "code",
   "execution_count": 15,
   "metadata": {
    "_uuid": "7aa7a40a0de0af4ebef864eaeaf15a8f39429b17"
   },
   "outputs": [],
   "source": [
    "from sklearn.model_selection import train_test_split\n",
    "from sklearn.model_selection import cross_val_score, cross_validate\n",
    "from sklearn.model_selection import KFold, RepeatedKFold, LeaveOneOut, LeavePOut, ShuffleSplit, StratifiedKFold\n",
    "from sklearn.metrics import accuracy_score, balanced_accuracy_score\n",
    "from sklearn.metrics import precision_score, recall_score, f1_score, classification_report\n",
    "from sklearn.metrics import confusion_matrix\n",
    "from sklearn.metrics import mean_absolute_error, mean_squared_error, mean_squared_log_error, median_absolute_error, r2_score \n",
    "from sklearn.metrics import roc_curve, roc_auc_score\n",
    "from sklearn.model_selection import GridSearchCV, RandomizedSearchCV\n",
    "from sklearn.model_selection import learning_curve, validation_curve\n",
    "from sklearn.ensemble import RandomForestClassifier\n",
    "from sklearn.ensemble import GradientBoostingClassifier"
   ]
  },
  {
   "cell_type": "code",
   "execution_count": 3,
   "metadata": {
    "_uuid": "a6b7776f542394f025a5db09cf6f198f71f6ffe3"
   },
   "outputs": [],
   "source": [
    "def accuracy_score_for_classes(\n",
    "    y_true: np.ndarray, \n",
    "    y_pred: np.ndarray):\n",
    "    \"\"\"\n",
    "    Вычисление метрики accuracy для каждого класса\n",
    "    y_true - истинные значения классов\n",
    "    y_pred - предсказанные значения классов\n",
    "    Возвращает словарь: ключ - метка класса, \n",
    "    значение - Accuracy для данного класса\n",
    "    \"\"\"\n",
    "    # Для удобства фильтрации сформируем Pandas DataFrame \n",
    "    d = {'t': y_true, 'p': y_pred}\n",
    "    df = pd.DataFrame(data=d)\n",
    "    # Метки классов\n",
    "    classes = np.unique(y_true)\n",
    "    # Результирующий словарь\n",
    "    res = dict()\n",
    "    # Перебор меток классов\n",
    "    for c in classes:\n",
    "        # отфильтруем данные, которые соответствуют \n",
    "        # текущей метке класса в истинных значениях\n",
    "        temp_data_flt = df[df['t']==c]\n",
    "        # расчет accuracy для заданной метки класса\n",
    "        temp_acc = accuracy_score(\n",
    "            temp_data_flt['t'].values, \n",
    "            temp_data_flt['p'].values)\n",
    "        # сохранение результата в словарь\n",
    "        res[c] = temp_acc\n",
    "    return res\n",
    "\n",
    "def print_accuracy_score_for_classes(\n",
    "    y_true: np.ndarray, \n",
    "    y_pred: np.ndarray):\n",
    "    \"\"\"\n",
    "    Вывод метрики accuracy для каждого класса\n",
    "    \"\"\"\n",
    "    accs = accuracy_score_for_classes(y_true, y_pred)\n",
    "    if len(accs)>0:\n",
    "        print('Метка \\t Accuracy')\n",
    "    for i in accs:\n",
    "        print('{} \\t {}'.format(i, accs[i]))"
   ]
  },
  {
   "cell_type": "code",
   "execution_count": 4,
   "metadata": {
    "_cell_guid": "79c7e3d0-c299-4dcb-8224-4455121ee9b0",
    "_uuid": "d629ff2d2480ee46fbb7e2d37f6b5fab8052498a"
   },
   "outputs": [],
   "source": [
    "data = pd.read_csv('./data/winequality-red.csv', sep=\",\")"
   ]
  },
  {
   "cell_type": "code",
   "execution_count": 5,
   "metadata": {
    "_uuid": "dfae222ff98d48813f7b04df30c7eb31cb376e65"
   },
   "outputs": [
    {
     "name": "stdout",
     "output_type": "stream",
     "text": [
      "<class 'pandas.core.frame.DataFrame'>\n",
      "RangeIndex: 1599 entries, 0 to 1598\n",
      "Data columns (total 12 columns):\n",
      "fixed acidity           1599 non-null float64\n",
      "volatile acidity        1599 non-null float64\n",
      "citric acid             1599 non-null float64\n",
      "residual sugar          1599 non-null float64\n",
      "chlorides               1599 non-null float64\n",
      "free sulfur dioxide     1599 non-null float64\n",
      "total sulfur dioxide    1599 non-null float64\n",
      "density                 1599 non-null float64\n",
      "pH                      1599 non-null float64\n",
      "sulphates               1599 non-null float64\n",
      "alcohol                 1599 non-null float64\n",
      "quality                 1599 non-null int64\n",
      "dtypes: float64(11), int64(1)\n",
      "memory usage: 150.0 KB\n"
     ]
    }
   ],
   "source": [
    "#датасет не имеет пропущенных значений категориальных признаков\n",
    "data.info() "
   ]
  },
  {
   "cell_type": "code",
   "execution_count": 6,
   "metadata": {},
   "outputs": [
    {
     "data": {
      "text/html": [
       "<div>\n",
       "<style scoped>\n",
       "    .dataframe tbody tr th:only-of-type {\n",
       "        vertical-align: middle;\n",
       "    }\n",
       "\n",
       "    .dataframe tbody tr th {\n",
       "        vertical-align: top;\n",
       "    }\n",
       "\n",
       "    .dataframe thead th {\n",
       "        text-align: right;\n",
       "    }\n",
       "</style>\n",
       "<table border=\"1\" class=\"dataframe\">\n",
       "  <thead>\n",
       "    <tr style=\"text-align: right;\">\n",
       "      <th></th>\n",
       "      <th>fixed acidity</th>\n",
       "      <th>volatile acidity</th>\n",
       "      <th>citric acid</th>\n",
       "      <th>residual sugar</th>\n",
       "      <th>chlorides</th>\n",
       "      <th>free sulfur dioxide</th>\n",
       "      <th>total sulfur dioxide</th>\n",
       "      <th>density</th>\n",
       "      <th>pH</th>\n",
       "      <th>sulphates</th>\n",
       "      <th>alcohol</th>\n",
       "      <th>quality</th>\n",
       "    </tr>\n",
       "  </thead>\n",
       "  <tbody>\n",
       "    <tr>\n",
       "      <th>0</th>\n",
       "      <td>7.4</td>\n",
       "      <td>0.70</td>\n",
       "      <td>0.00</td>\n",
       "      <td>1.9</td>\n",
       "      <td>0.076</td>\n",
       "      <td>11.0</td>\n",
       "      <td>34.0</td>\n",
       "      <td>0.9978</td>\n",
       "      <td>3.51</td>\n",
       "      <td>0.56</td>\n",
       "      <td>9.4</td>\n",
       "      <td>5</td>\n",
       "    </tr>\n",
       "    <tr>\n",
       "      <th>1</th>\n",
       "      <td>7.8</td>\n",
       "      <td>0.88</td>\n",
       "      <td>0.00</td>\n",
       "      <td>2.6</td>\n",
       "      <td>0.098</td>\n",
       "      <td>25.0</td>\n",
       "      <td>67.0</td>\n",
       "      <td>0.9968</td>\n",
       "      <td>3.20</td>\n",
       "      <td>0.68</td>\n",
       "      <td>9.8</td>\n",
       "      <td>5</td>\n",
       "    </tr>\n",
       "    <tr>\n",
       "      <th>2</th>\n",
       "      <td>7.8</td>\n",
       "      <td>0.76</td>\n",
       "      <td>0.04</td>\n",
       "      <td>2.3</td>\n",
       "      <td>0.092</td>\n",
       "      <td>15.0</td>\n",
       "      <td>54.0</td>\n",
       "      <td>0.9970</td>\n",
       "      <td>3.26</td>\n",
       "      <td>0.65</td>\n",
       "      <td>9.8</td>\n",
       "      <td>5</td>\n",
       "    </tr>\n",
       "    <tr>\n",
       "      <th>3</th>\n",
       "      <td>11.2</td>\n",
       "      <td>0.28</td>\n",
       "      <td>0.56</td>\n",
       "      <td>1.9</td>\n",
       "      <td>0.075</td>\n",
       "      <td>17.0</td>\n",
       "      <td>60.0</td>\n",
       "      <td>0.9980</td>\n",
       "      <td>3.16</td>\n",
       "      <td>0.58</td>\n",
       "      <td>9.8</td>\n",
       "      <td>6</td>\n",
       "    </tr>\n",
       "    <tr>\n",
       "      <th>4</th>\n",
       "      <td>7.4</td>\n",
       "      <td>0.70</td>\n",
       "      <td>0.00</td>\n",
       "      <td>1.9</td>\n",
       "      <td>0.076</td>\n",
       "      <td>11.0</td>\n",
       "      <td>34.0</td>\n",
       "      <td>0.9978</td>\n",
       "      <td>3.51</td>\n",
       "      <td>0.56</td>\n",
       "      <td>9.4</td>\n",
       "      <td>5</td>\n",
       "    </tr>\n",
       "  </tbody>\n",
       "</table>\n",
       "</div>"
      ],
      "text/plain": [
       "   fixed acidity  volatile acidity  citric acid  residual sugar  chlorides  \\\n",
       "0            7.4              0.70         0.00             1.9      0.076   \n",
       "1            7.8              0.88         0.00             2.6      0.098   \n",
       "2            7.8              0.76         0.04             2.3      0.092   \n",
       "3           11.2              0.28         0.56             1.9      0.075   \n",
       "4            7.4              0.70         0.00             1.9      0.076   \n",
       "\n",
       "   free sulfur dioxide  total sulfur dioxide  density    pH  sulphates  \\\n",
       "0                 11.0                  34.0   0.9978  3.51       0.56   \n",
       "1                 25.0                  67.0   0.9968  3.20       0.68   \n",
       "2                 15.0                  54.0   0.9970  3.26       0.65   \n",
       "3                 17.0                  60.0   0.9980  3.16       0.58   \n",
       "4                 11.0                  34.0   0.9978  3.51       0.56   \n",
       "\n",
       "   alcohol  quality  \n",
       "0      9.4        5  \n",
       "1      9.8        5  \n",
       "2      9.8        5  \n",
       "3      9.8        6  \n",
       "4      9.4        5  "
      ]
     },
     "execution_count": 6,
     "metadata": {},
     "output_type": "execute_result"
    }
   ],
   "source": [
    "data.head()"
   ]
  },
  {
   "cell_type": "code",
   "execution_count": 11,
   "metadata": {
    "_uuid": "e377e1e1f6cca8107edb2bb833d57e349a92efe4"
   },
   "outputs": [
    {
     "data": {
      "text/plain": [
       "<matplotlib.axes._subplots.AxesSubplot at 0x28d55e3e6a0>"
      ]
     },
     "execution_count": 11,
     "metadata": {},
     "output_type": "execute_result"
    },
    {
     "data": {
      "image/png": "[encoded data removed]",
      "text/plain": [
       "<Figure size 432x288 with 2 Axes>"
      ]
     },
     "metadata": {
      "needs_background": "light"
     },
     "output_type": "display_data"
    }
   ],
   "source": [
    "sns.heatmap(data.corr())"
   ]
  },
  {
   "cell_type": "code",
   "execution_count": 8,
   "metadata": {},
   "outputs": [],
   "source": [
    "data = data.drop('free sulfur dioxide', axis=1)\n",
    "data = data.drop('citric acid', axis=1)\n",
    "data = data.drop('fixed acidity', axis=1)"
   ]
  },
  {
   "cell_type": "code",
   "execution_count": 12,
   "metadata": {
    "_uuid": "66e16fe45dd669d2eb4abb9351a4e6f06931aa06"
   },
   "outputs": [
    {
     "name": "stdout",
     "output_type": "stream",
     "text": [
      "   volatile acidity  residual sugar  chlorides  total sulfur dioxide  density  \\\n",
      "0              0.70             1.9      0.076                  34.0   0.9978   \n",
      "1              0.88             2.6      0.098                  67.0   0.9968   \n",
      "2              0.76             2.3      0.092                  54.0   0.9970   \n",
      "3              0.28             1.9      0.075                  60.0   0.9980   \n",
      "4              0.70             1.9      0.076                  34.0   0.9978   \n",
      "\n",
      "     pH  sulphates  alcohol  \n",
      "0  3.51       0.56      9.4  \n",
      "1  3.20       0.68      9.8  \n",
      "2  3.26       0.65      9.8  \n",
      "3  3.16       0.58      9.8  \n",
      "4  3.51       0.56      9.4  \n",
      "0    5\n",
      "1    5\n",
      "2    5\n",
      "3    6\n",
      "4    5\n",
      "Name: quality, dtype: int64\n"
     ]
    }
   ],
   "source": [
    "quality = data['quality']\n",
    "data = data.drop('quality', axis=1)\n",
    "print(data.head())\n",
    "print(quality.head())"
   ]
  },
  {
   "cell_type": "code",
   "execution_count": 13,
   "metadata": {
    "_uuid": "c14fcf685289412f4754f6dfb573a5810c8cc877"
   },
   "outputs": [],
   "source": [
    "x_train, x_test, y_train, y_test = train_test_split(\n",
    "    data, quality, test_size=0.3, random_state=1)"
   ]
  },
  {
   "cell_type": "markdown",
   "metadata": {},
   "source": [
    "**Random forest**"
   ]
  },
  {
   "cell_type": "code",
   "execution_count": 16,
   "metadata": {
    "_uuid": "85c2f41a201de8f1666342b97a150c236d0d9c3c"
   },
   "outputs": [
    {
     "name": "stdout",
     "output_type": "stream",
     "text": [
      "accuracy\n"
     ]
    },
    {
     "name": "stderr",
     "output_type": "stream",
     "text": [
      "C:\\Users\\pisar\\Anaconda3\\lib\\site-packages\\sklearn\\ensemble\\forest.py:248: FutureWarning: The default value of n_estimators will change from 10 in version 0.20 to 100 in 0.22.\n",
      "  \"10 in version 0.20 to 100 in 0.22.\", FutureWarning)\n"
     ]
    },
    {
     "data": {
      "text/plain": [
       "(0.9865951742627346, 0.6604166666666667)"
      ]
     },
     "execution_count": 16,
     "metadata": {},
     "output_type": "execute_result"
    }
   ],
   "source": [
    "cls_rand = RandomForestClassifier()\n",
    "cls_rand.fit(x_train, y_train)\n",
    "target1_0 = cls_rand.predict(x_train)\n",
    "target1_1 = cls_rand.predict(x_test)\n",
    "print('accuracy')\n",
    "accuracy_score(y_train, target1_0), accuracy_score(y_test, target1_1)"
   ]
  },
  {
   "cell_type": "code",
   "execution_count": 17,
   "metadata": {
    "_uuid": "5b6656617cf01e20428e4bc052dcdc671d749d67"
   },
   "outputs": [
    {
     "data": {
      "text/plain": [
       "0.37367769106899545"
      ]
     },
     "execution_count": 17,
     "metadata": {},
     "output_type": "execute_result"
    }
   ],
   "source": [
    "#доля правильных предсказаний\n",
    "recall_score(y_test, target1_1, average='macro')"
   ]
  },
  {
   "cell_type": "code",
   "execution_count": 18,
   "metadata": {
    "_uuid": "48d410263e5e5d46e21c13ea243b9266c090b7f8"
   },
   "outputs": [
    {
     "data": {
      "text/plain": [
       "0.6285072335243742"
      ]
     },
     "execution_count": 18,
     "metadata": {},
     "output_type": "execute_result"
    }
   ],
   "source": [
    "# Параметры TP, TN, FP, FN считаются отдельно для каждого класса \n",
    "# и берется среднее значение, дисбаланс классов учитывается \n",
    "# в виде веса классов (вес - количество истинных значений каждого класса).\n",
    "precision_score(y_test, target1_1, average='weighted')"
   ]
  },
  {
   "cell_type": "code",
   "execution_count": 19,
   "metadata": {
    "_uuid": "2bceb2b3f9e1c83737eb97de204741aec8acd4fd"
   },
   "outputs": [
    {
     "name": "stdout",
     "output_type": "stream",
     "text": [
      "Метка \t Accuracy\n",
      "3 \t 0.0\n",
      "4 \t 0.0\n",
      "5 \t 0.8164251207729468\n",
      "6 \t 0.6307692307692307\n",
      "7 \t 0.46153846153846156\n",
      "8 \t 0.3333333333333333\n"
     ]
    }
   ],
   "source": [
    "#accuracy для каждого класса\n",
    "print_accuracy_score_for_classes(y_test, target1_1)"
   ]
  },
  {
   "cell_type": "code",
   "execution_count": 20,
   "metadata": {
    "_uuid": "08e98e4a968d29cbe4722316c9ca0c820e539482"
   },
   "outputs": [
    {
     "data": {
      "text/plain": [
       "{5: {'precision': 0.0, 'recall': 0.0, 'f1-score': 0.0, 'support': 2},\n",
       " 6: {'precision': 0.0, 'recall': 0.0, 'f1-score': 0.0, 'support': 21},\n",
       " 7: {'precision': 0.6733067729083665,\n",
       "  'recall': 0.8164251207729468,\n",
       "  'f1-score': 0.7379912663755459,\n",
       "  'support': 207},\n",
       " 4: {'precision': 0.6758241758241759,\n",
       "  'recall': 0.6307692307692307,\n",
       "  'f1-score': 0.6525198938992043,\n",
       "  'support': 195},\n",
       " 8: {'precision': 0.5581395348837209,\n",
       "  'recall': 0.46153846153846156,\n",
       "  'f1-score': 0.5052631578947369,\n",
       "  'support': 52},\n",
       " 3: {'precision': 0.5,\n",
       "  'recall': 0.3333333333333333,\n",
       "  'f1-score': 0.4,\n",
       "  'support': 3},\n",
       " 'micro avg': {'precision': 0.6604166666666667,\n",
       "  'recall': 0.6604166666666667,\n",
       "  'f1-score': 0.6604166666666667,\n",
       "  'support': 480},\n",
       " 'macro avg': {'precision': 0.40121174726937725,\n",
       "  'recall': 0.37367769106899545,\n",
       "  'f1-score': 0.38262905302824785,\n",
       "  'support': 480},\n",
       " 'weighted avg': {'precision': 0.6285072335243742,\n",
       "  'recall': 0.6604166666666667,\n",
       "  'f1-score': 0.6405817826262691,\n",
       "  'support': 480}}"
      ]
     },
     "execution_count": 20,
     "metadata": {},
     "output_type": "execute_result"
    }
   ],
   "source": [
    "classification_report(y_test, target1_1, \n",
    "                      target_names=quality.unique(), output_dict=True)"
   ]
  },
  {
   "cell_type": "markdown",
   "metadata": {},
   "source": [
    "**Gradient Boosting**"
   ]
  },
  {
   "cell_type": "code",
   "execution_count": 21,
   "metadata": {},
   "outputs": [
    {
     "name": "stdout",
     "output_type": "stream",
     "text": [
      "accuracy\n",
      "0.8918677390527256 0.6541666666666667\n",
      "accuracy_score_for_classes\n",
      "Метка \t Accuracy\n",
      "3 \t 0.0\n",
      "4 \t 0.047619047619047616\n",
      "5 \t 0.7777777777777778\n",
      "6 \t 0.6461538461538462\n",
      "7 \t 0.4807692307692308\n",
      "8 \t 0.3333333333333333\n",
      "None\n",
      "recall\n",
      "0.380942205942206\n",
      "precission\n",
      "0.6336907003970274\n"
     ]
    },
    {
     "name": "stderr",
     "output_type": "stream",
     "text": [
      "C:\\Users\\pisar\\Anaconda3\\lib\\site-packages\\sklearn\\metrics\\classification.py:1143: UndefinedMetricWarning: Precision is ill-defined and being set to 0.0 in labels with no predicted samples.\n",
      "  'precision', 'predicted', average, warn_for)\n"
     ]
    }
   ],
   "source": [
    "cls_gb = GradientBoostingClassifier()\n",
    "cls_gb.fit(x_train, y_train)\n",
    "target1_0_gb = cls_gb.predict(x_train)\n",
    "target1_1_gb = cls_gb.predict(x_test)\n",
    "print('accuracy')\n",
    "print(accuracy_score(y_train, target1_0_gb), accuracy_score(y_test, target1_1_gb))\n",
    "print('accuracy_score_for_classes')\n",
    "print(print_accuracy_score_for_classes(y_test, target1_1_gb))\n",
    "print('recall')\n",
    "print(recall_score(y_test, target1_1_gb, average='macro'))\n",
    "print('precission')\n",
    "print(precision_score(y_test, target1_1_gb, average='weighted'))"
   ]
  },
  {
   "cell_type": "markdown",
   "metadata": {
    "_uuid": "177797447917049ef24904e844aed63d62db702e"
   },
   "source": [
    "**Grid Search**"
   ]
  },
  {
   "cell_type": "markdown",
   "metadata": {},
   "source": [
    "Random forest"
   ]
  },
  {
   "cell_type": "code",
   "execution_count": 29,
   "metadata": {},
   "outputs": [
    {
     "data": {
      "text/plain": [
       "GridSearchCV(cv=5, error_score='raise-deprecating',\n",
       "       estimator=RandomForestClassifier(bootstrap=True, class_weight=None, criterion='gini',\n",
       "            max_depth=None, max_features='auto', max_leaf_nodes=None,\n",
       "            min_impurity_decrease=0.0, min_impurity_split=None,\n",
       "            min_samples_leaf=1, min_samples_split=2,\n",
       "            min_weight_fraction_leaf=0.0, n_estimators=10, n_jobs=None,\n",
       "            oob_score=False, random_state=None, verbose=0,\n",
       "            warm_start=False),\n",
       "       fit_params=None, iid='warn', n_jobs=None,\n",
       "       param_grid={'n_estimators': [200, 500], 'max_features': ['auto', 'sqrt', 'log2'], 'max_depth': [4, 5, 6, 7, 8], 'criterion': ['gini', 'entropy']},\n",
       "       pre_dispatch='2*n_jobs', refit=True, return_train_score='warn',\n",
       "       scoring=None, verbose=0)"
      ]
     },
     "execution_count": 29,
     "metadata": {},
     "output_type": "execute_result"
    }
   ],
   "source": [
    "grid = { \n",
    "    'n_estimators': [200, 500],\n",
    "    'max_features': ['auto', 'sqrt', 'log2'],\n",
    "    'max_depth' : [4,5,6,7,8],\n",
    "    'criterion' :['gini', 'entropy']\n",
    "}\n",
    "rand_cv=GridSearchCV(cls_rand,grid, cv=5)\n",
    "rand_cv.fit(x_train,y_train)"
   ]
  },
  {
   "cell_type": "code",
   "execution_count": 31,
   "metadata": {
    "scrolled": true
   },
   "outputs": [
    {
     "name": "stdout",
     "output_type": "stream",
     "text": [
      "best estimator RandomForestClassifier(bootstrap=True, class_weight=None, criterion='gini',\n",
      "            max_depth=8, max_features='sqrt', max_leaf_nodes=None,\n",
      "            min_impurity_decrease=0.0, min_impurity_split=None,\n",
      "            min_samples_leaf=1, min_samples_split=2,\n",
      "            min_weight_fraction_leaf=0.0, n_estimators=500, n_jobs=None,\n",
      "            oob_score=False, random_state=None, verbose=0,\n",
      "            warm_start=False)\n",
      "0.6586237712243074\n",
      "accuracy\n",
      "0.8588025022341377 0.6645833333333333\n",
      "accuracy_score_for_classes\n",
      "Метка \t Accuracy\n",
      "3 \t 0.0\n",
      "4 \t 0.0\n",
      "5 \t 0.7922705314009661\n",
      "6 \t 0.7025641025641025\n",
      "7 \t 0.34615384615384615\n",
      "8 \t 0.0\n",
      "None\n",
      "recall\n",
      "0.30683141335315245\n",
      "precission\n",
      "0.6260333813879498\n"
     ]
    },
    {
     "name": "stderr",
     "output_type": "stream",
     "text": [
      "C:\\Users\\pisar\\Anaconda3\\lib\\site-packages\\sklearn\\metrics\\classification.py:1143: UndefinedMetricWarning: Precision is ill-defined and being set to 0.0 in labels with no predicted samples.\n",
      "  'precision', 'predicted', average, warn_for)\n"
     ]
    }
   ],
   "source": [
    "print(\"best estimator\", rand_cv.best_estimator_)\n",
    "print(rand_cv.best_score_)\n",
    "cls_best_log = rand_cv.best_estimator_.fit(x_train,y_train)\n",
    "target1_0_gsrf = cls_best_log.predict(x_train)\n",
    "target1_1_gsrf = cls_best_log.predict(x_test)\n",
    "print('accuracy')\n",
    "print(accuracy_score(y_train, target1_0_gsrf), accuracy_score(y_test, target1_1_gsrf))\n",
    "print('accuracy_score_for_classes')\n",
    "print(print_accuracy_score_for_classes(y_test, target1_1_gsrf))\n",
    "print('recall')\n",
    "print(recall_score(y_test, target1_1_gsrf, average='macro'))\n",
    "print('precission')\n",
    "print(precision_score(y_test, target1_1_gsrf, average='weighted'))"
   ]
  },
  {
   "cell_type": "markdown",
   "metadata": {},
   "source": [
    "Gradient Boosting"
   ]
  },
  {
   "cell_type": "code",
   "execution_count": 32,
   "metadata": {
    "scrolled": true
   },
   "outputs": [
    {
     "data": {
      "text/plain": [
       "GridSearchCV(cv=3, error_score='raise-deprecating',\n",
       "       estimator=GradientBoostingClassifier(criterion='friedman_mse', init=None,\n",
       "              learning_rate=0.1, loss='deviance', max_depth=3,\n",
       "              max_features=None, max_leaf_nodes=None,\n",
       "              min_impurity_decrease=0.0, min_impurity_split=None,\n",
       "              min_samples_leaf=1, min_sampl...      subsample=1.0, tol=0.0001, validation_fraction=0.1,\n",
       "              verbose=0, warm_start=False),\n",
       "       fit_params=None, iid='warn', n_jobs=None,\n",
       "       param_grid={'learning_rate': [0.01, 0.025, 0.05, 0.075, 0.1, 0.15, 0.2], 'max_depth': [3, 5, 8], 'max_features': ['log2', 'sqrt'], 'criterion': ['friedman_mse', 'mae']},\n",
       "       pre_dispatch='2*n_jobs', refit=True, return_train_score='warn',\n",
       "       scoring=None, verbose=0)"
      ]
     },
     "execution_count": 32,
     "metadata": {},
     "output_type": "execute_result"
    }
   ],
   "source": [
    "grid = {\n",
    "    \"learning_rate\": [0.01, 0.025, 0.05, 0.075, 0.1, 0.15, 0.2],\n",
    "    \"max_depth\":[3,5,8],\n",
    "    \"max_features\":[\"log2\",\"sqrt\"],\n",
    "    \"criterion\": [\"friedman_mse\",  \"mae\"],\n",
    "    }\n",
    "gb_cv=GridSearchCV(cls_gb,grid,cv=3)\n",
    "gb_cv.fit(x_train,y_train)"
   ]
  },
  {
   "cell_type": "code",
   "execution_count": 33,
   "metadata": {},
   "outputs": [
    {
     "name": "stdout",
     "output_type": "stream",
     "text": [
      "GradientBoostingClassifier(criterion='friedman_mse', init=None,\n",
      "              learning_rate=0.05, loss='deviance', max_depth=5,\n",
      "              max_features='sqrt', max_leaf_nodes=None,\n",
      "              min_impurity_decrease=0.0, min_impurity_split=None,\n",
      "              min_samples_leaf=1, min_samples_split=2,\n",
      "              min_weight_fraction_leaf=0.0, n_estimators=100,\n",
      "              n_iter_no_change=None, presort='auto', random_state=None,\n",
      "              subsample=1.0, tol=0.0001, validation_fraction=0.1,\n",
      "              verbose=0, warm_start=False)\n",
      "accuracy\n",
      "0.9526362823949955 0.68125\n",
      "accuracy_score_for_classes\n",
      "Метка \t Accuracy\n",
      "3 \t 0.0\n",
      "4 \t 0.047619047619047616\n",
      "5 \t 0.782608695652174\n",
      "6 \t 0.7128205128205128\n",
      "7 \t 0.46153846153846156\n",
      "8 \t 0.3333333333333333\n",
      "None\n",
      "recall\n",
      "0.3896533418272549\n",
      "precission\n",
      "0.6895336611736871\n"
     ]
    },
    {
     "name": "stderr",
     "output_type": "stream",
     "text": [
      "C:\\Users\\pisar\\Anaconda3\\lib\\site-packages\\sklearn\\metrics\\classification.py:1143: UndefinedMetricWarning: Precision is ill-defined and being set to 0.0 in labels with no predicted samples.\n",
      "  'precision', 'predicted', average, warn_for)\n"
     ]
    }
   ],
   "source": [
    "print(gb_cv.best_estimator_)\n",
    "cls_best_gb = gb_cv.best_estimator_.fit(x_train,y_train)\n",
    "target1_0_gsgb = cls_best_gb.predict(x_train)\n",
    "target1_1_gsgb = cls_best_gb.predict(x_test)\n",
    "print('accuracy')\n",
    "print(accuracy_score(y_train, target1_0_gsgb), accuracy_score(y_test, target1_1_gsgb))\n",
    "print('accuracy_score_for_classes')\n",
    "print(print_accuracy_score_for_classes(y_test, target1_1_gsgb))\n",
    "print('recall')\n",
    "print(recall_score(y_test, target1_1_gsgb, average='macro'))\n",
    "print('precission')\n",
    "print(precision_score(y_test, target1_1_gsgb, average='weighted'))"
   ]
  },
  {
   "cell_type": "markdown",
   "metadata": {
    "_uuid": "a26c1d7a83e4569d1c3a51ec657f156a2ee18d24"
   },
   "source": [
    "**Сравнение accuracy до и после grid search (train, test)**\n",
    "\n",
    "Random forest\n",
    "\n",
    "Default parameters\n",
    "\n",
    "0.9865951742627346, 0.6604166666666667\n",
    "\n",
    "Метка \t Accuracy\n",
    "3 \t 0.0\n",
    "4 \t 0.0\n",
    "5 \t 0.8164251207729468\n",
    "6 \t 0.6307692307692307\n",
    "7 \t 0.46153846153846156\n",
    "8 \t 0.3333333333333333\n",
    "\n",
    "Grid search\n",
    "\n",
    "0.8588025022341377 0.6645833333333333\n",
    "\n",
    "Метка \t Accuracy\n",
    "3 \t 0.0\n",
    "4 \t 0.0\n",
    "5 \t 0.7922705314009661\n",
    "6 \t 0.7025641025641025\n",
    "7 \t 0.34615384615384615\n",
    "8 \t 0.0\n",
    "\n",
    "Gradient boosting\n",
    "\n",
    "Default parameters\n",
    "\n",
    "0.8918677390527256 0.6541666666666667\n",
    "\n",
    "Метка \t Accuracy\n",
    "3 \t 0.0\n",
    "4 \t 0.047619047619047616\n",
    "5 \t 0.7777777777777778\n",
    "6 \t 0.6461538461538462\n",
    "7 \t 0.4807692307692308\n",
    "8 \t 0.3333333333333333\n",
    "\n",
    "Grid search\n",
    "\n",
    "0.9526362823949955 0.68125\n",
    "\n",
    "Метка \t Accuracy\n",
    "3 \t 0.0\n",
    "4 \t 0.047619047619047616\n",
    "5 \t 0.782608695652174\n",
    "6 \t 0.7128205128205128\n",
    "7 \t 0.46153846153846156\n",
    "8 \t 0.3333333333333333"
   ]
  },
  {
   "cell_type": "code",
   "execution_count": null,
   "metadata": {
    "_uuid": "b98bd87468aa9c8b1adf8f6c562f902a10fa97e6"
   },
   "outputs": [],
   "source": []
  }
 ],
 "metadata": {
  "kernelspec": {
   "display_name": "Python 3",
   "language": "python",
   "name": "python3"
  },
  "language_info": {
   "codemirror_mode": {
    "name": "ipython",
    "version": 3
   },
   "file_extension": ".py",
   "mimetype": "text/x-python",
   "name": "python",
   "nbconvert_exporter": "python",
   "pygments_lexer": "ipython3",
   "version": "3.6.7"
  }
 },
 "nbformat": 4,
 "nbformat_minor": 1
}
